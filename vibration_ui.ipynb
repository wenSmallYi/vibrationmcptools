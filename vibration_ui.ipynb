{
 "cells": [
  {
   "cell_type": "code",
   "execution_count": 3,
   "id": "691744d4",
   "metadata": {},
   "outputs": [
    {
     "name": "stdout",
     "output_type": "stream",
     "text": [
      "* Running on local URL:  http://0.0.0.0:7871\n",
      "* To create a public link, set `share=True` in `launch()`.\n"
     ]
    },
    {
     "data": {
      "text/html": [
       "<div><iframe src=\"http://localhost:7871/\" width=\"100%\" height=\"500\" allow=\"autoplay; camera; microphone; clipboard-read; clipboard-write;\" frameborder=\"0\" allowfullscreen></iframe></div>"
      ],
      "text/plain": [
       "<IPython.core.display.HTML object>"
      ]
     },
     "metadata": {},
     "output_type": "display_data"
    },
    {
     "data": {
      "text/plain": []
     },
     "execution_count": 3,
     "metadata": {},
     "output_type": "execute_result"
    }
   ],
   "source": [
    "import gradio as gr\n",
    "import requests\n",
    "\n",
    "def upload_and_analyze(file_obj, instruction_text):\n",
    "    try:\n",
    "        with open(file_obj.name, \"rb\") as f:\n",
    "            files = {'file': (\"uploaded.csv\", f, \"text/csv\")}\n",
    "            data = {'instruction_text': instruction_text}\n",
    "            response = requests.post(\"http://localhost:8080/analyze_vibration/\", files=files, data=data)\n",
    "\n",
    "        if response.status_code == 200:\n",
    "            result = response.json()\n",
    "            # 這裡對應 FastAPI 回傳內容\n",
    "            instructions = result.get(\"instructions\", [])\n",
    "            results = result.get(\"results\", [])\n",
    "            summary = result.get(\"llm_summary\", \"\")\n",
    "\n",
    "            if not results:\n",
    "                summary = \"⚠️ 沒有成功解析或計算特徵，請檢查指令與資料格式是否正確。\"\n",
    "\n",
    "            return instructions, results, summary\n",
    "        else:\n",
    "            return {}, {}, f\"❌ 錯誤狀態碼：{response.status_code}\"\n",
    "    except Exception as e:\n",
    "        return {}, {}, f\"⚠️ 例外錯誤：{str(e)}\"\n",
    "\n",
    "gr.Interface(\n",
    "    fn=upload_and_analyze,\n",
    "    inputs=[\n",
    "        gr.File(label=\"📤 上傳振動 CSV\", file_types=[\".csv\"]),\n",
    "        gr.Textbox(label=\"🧠 自然語言分析指令\", placeholder=\"例：請對 Z 軸做 1500~4000Hz 濾波並計算 RMS 與轉速\", lines=2)\n",
    "    ],\n",
    "    outputs=[\n",
    "        gr.JSON(label=\"📋 指令解析結果（LLM 回傳）\"),\n",
    "        gr.JSON(label=\"📊 特徵值分析結果（多軸/多濾波）\"),\n",
    "        gr.Textbox(label=\"🧠 LLM 自然語言診斷摘要\", lines=12)\n",
    "    ],\n",
    "    title=\"📈 振動訊號 AI 智能分析系統\",\n",
    "    description=\"請上傳包含 X, Y, Z 欄位的振動 CSV 檔案，並用自然語言輸入分析需求，系統會整合 MCP 與 LLM 自動處理。\"\n",
    ").launch(\n",
    "    server_name=\"0.0.0.0\",\n",
    "    server_port=7871,\n",
    "    share=False\n",
    ")"
   ]
  }
 ],
 "metadata": {
  "kernelspec": {
   "display_name": "ai_agent",
   "language": "python",
   "name": "python3"
  },
  "language_info": {
   "codemirror_mode": {
    "name": "ipython",
    "version": 3
   },
   "file_extension": ".py",
   "mimetype": "text/x-python",
   "name": "python",
   "nbconvert_exporter": "python",
   "pygments_lexer": "ipython3",
   "version": "3.12.10"
  }
 },
 "nbformat": 4,
 "nbformat_minor": 5
}
